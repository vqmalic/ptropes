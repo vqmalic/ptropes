{
 "cells": [
  {
   "cell_type": "code",
   "execution_count": 3,
   "metadata": {},
   "outputs": [],
   "source": [
    "import os\n",
    "import glob\n",
    "import json"
   ]
  },
  {
   "cell_type": "markdown",
   "metadata": {},
   "source": [
    "First task is to get the data into the system. The data is located at `/media/kashgar/data/pnn_training/ph_straight_mdonly/` and `/media/kashgar/data/pnn_training/ph_straight_videos/`."
   ]
  },
  {
   "cell_type": "markdown",
   "metadata": {},
   "source": [
    "Counting the json files."
   ]
  },
  {
   "cell_type": "code",
   "execution_count": 6,
   "metadata": {},
   "outputs": [],
   "source": [
    "PATHS = ['/media/kashgar/data/pnn_training/ph_straight_mdonly/*.json', '/media/kashgar/data/pnn_training/ph_straight_videos/*.json']"
   ]
  },
  {
   "cell_type": "code",
   "execution_count": 8,
   "metadata": {},
   "outputs": [
    {
     "name": "stdout",
     "output_type": "stream",
     "text": [
      "72255\n"
     ]
    }
   ],
   "source": [
    "n = 0\n",
    "\n",
    "for path in PATHS:\n",
    "    for file in glob.glob(path):\n",
    "        n += 1\n",
    "        this = file\n",
    "print(n)"
   ]
  },
  {
   "cell_type": "markdown",
   "metadata": {},
   "source": [
    "See what's in one json file."
   ]
  },
  {
   "cell_type": "code",
   "execution_count": 11,
   "metadata": {},
   "outputs": [
    {
     "name": "stdout",
     "output_type": "stream",
     "text": [
      "{\n",
      "    \"age_limit\": 18,\n",
      "    \"categories\": [\n",
      "        \"Pornstar\",\n",
      "        \"Reality\",\n",
      "        \"Teen\",\n",
      "        \"POV\",\n",
      "        \"Small Tits\",\n",
      "        \"For Women\",\n",
      "        \"HD\"\n",
      "    ],\n",
      "    \"comment_count\": 154,\n",
      "    \"dislike_count\": 5521,\n",
      "    \"display_id\": \"ph58b4678809eed\",\n",
      "    \"downloadtime\": \"2017-09-25 05:42:22\",\n",
      "    \"duration\": 479,\n",
      "    \"ext\": \"mp4\",\n",
      "    \"extractor\": \"PornHub\",\n",
      "    \"extractor_key\": \"PornHub\",\n",
      "    \"format\": \"0 - unknown\",\n",
      "    \"format_id\": \"0\",\n",
      "    \"http_headers\": {\n",
      "        \"Accept\": \"text/html,application/xhtml+xml,application/xml;q=0.9,*/*;q=0.8\",\n",
      "        \"Accept-Charset\": \"ISO-8859-1,utf-8;q=0.7,*;q=0.7\",\n",
      "        \"Accept-Encoding\": \"gzip, deflate\",\n",
      "        \"Accept-Language\": \"en-us,en;q=0.5\",\n",
      "        \"User-Agent\": \"Mozilla/5.0 (X11; Linux x86_64; rv:10.0) Gecko/20150101 Firefox/47.0 (Chrome)\"\n",
      "    },\n",
      "    \"id\": \"ph58b4678809eed\",\n",
      "    \"like_count\": 17462,\n",
      "    \"playlist\": null,\n",
      "    \"playlist_index\": null,\n",
      "    \"pornstars\": [\n",
      "        \"/pornstar/alexa-grace\"\n",
      "    ],\n",
      "    \"production\": [\n",
      "        \"professional\"\n",
      "    ],\n",
      "    \"protocol\": \"https\",\n",
      "    \"requested_subtitles\": null,\n",
      "    \"tags\": [\n",
      "        \"sislovesme\",\n",
      "        \"alexa grace\",\n",
      "        \"young\",\n",
      "        \"petite\",\n",
      "        \"point of view\",\n",
      "        \"skinny\",\n",
      "        \"blonde\",\n",
      "        \"sister\",\n",
      "        \"step sister\",\n",
      "        \"taboo\",\n",
      "        \"brother and sister\",\n",
      "        \"hd\",\n",
      "        \"hardcore\",\n",
      "        \"amateur\",\n",
      "        \"couch\",\n",
      "        \"big cock\"\n",
      "    ],\n",
      "    \"thumbnail\": \"https://bi.phncdn.com/videos/201702/27/107844312/original/(m=eaAaGwObaaaa)(mh=l1VM0ywYHHoZeGrV)8.jpg\",\n",
      "    \"thumbnails\": [\n",
      "        {\n",
      "            \"id\": \"0\",\n",
      "            \"url\": \"https://bi.phncdn.com/videos/201702/27/107844312/original/(m=eaAaGwObaaaa)(mh=l1VM0ywYHHoZeGrV)8.jpg\"\n",
      "        }\n",
      "    ],\n",
      "    \"title\": \"Step Sister Fucked By Brother While Talking On Phone With Boyfriend\",\n",
      "    \"uploader\": \"verybarry\",\n",
      "    \"url\": \"https://dv.phncdn.com/videos/201702/27/107844312/720P_1500K_107844312.mp4?ttl=1506335796&ri=1228800&rs=2072&hash=bbfb6733e7772da0ef977790ea5d3655\",\n",
      "    \"view_count\": 6781765,\n",
      "    \"webpage_url\": \"https://www.pornhub.com/view_video.php?viewkey=ph58b4678809eed\",\n",
      "    \"webpage_url_basename\": \"view_video.php\"\n",
      "}\n"
     ]
    }
   ],
   "source": [
    "with open(this, 'r') as f:\n",
    "    data = json.load(f)\n",
    "    print(json.dumps(data, indent=4, sort_keys=True))"
   ]
  },
  {
   "cell_type": "code",
   "execution_count": null,
   "metadata": {},
   "outputs": [],
   "source": []
  }
 ],
 "metadata": {
  "kernelspec": {
   "display_name": "Python 3",
   "language": "python",
   "name": "python3"
  },
  "language_info": {
   "codemirror_mode": {
    "name": "ipython",
    "version": 3
   },
   "file_extension": ".py",
   "mimetype": "text/x-python",
   "name": "python",
   "nbconvert_exporter": "python",
   "pygments_lexer": "ipython3",
   "version": "3.6.8"
  }
 },
 "nbformat": 4,
 "nbformat_minor": 2
}
