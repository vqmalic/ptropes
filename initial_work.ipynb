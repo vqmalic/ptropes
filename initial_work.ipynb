{
 "cells": [
  {
   "cell_type": "code",
   "execution_count": 24,
   "metadata": {},
   "outputs": [],
   "source": [
    "import os\n",
    "import glob\n",
    "import json\n",
    "from tqdm import tqdm\n",
    "from collections import Counter"
   ]
  },
  {
   "cell_type": "markdown",
   "metadata": {},
   "source": [
    "First task is to get the data into the system. The data is located at `/media/kashgar/data/pnn_training/ph_straight_mdonly/` and `/media/kashgar/data/pnn_training/ph_straight_videos/`."
   ]
  },
  {
   "cell_type": "markdown",
   "metadata": {},
   "source": [
    "Counting the json files."
   ]
  },
  {
   "cell_type": "code",
   "execution_count": 6,
   "metadata": {},
   "outputs": [],
   "source": [
    "PATHS = ['/media/kashgar/data/pnn_training/ph_straight_mdonly/*.json', '/media/kashgar/data/pnn_training/ph_straight_videos/*.json']"
   ]
  },
  {
   "cell_type": "code",
   "execution_count": 8,
   "metadata": {},
   "outputs": [
    {
     "name": "stdout",
     "output_type": "stream",
     "text": [
      "72255\n"
     ]
    }
   ],
   "source": [
    "n = 0\n",
    "\n",
    "for path in PATHS:\n",
    "    for file in glob.glob(path):\n",
    "        n += 1\n",
    "        this = file\n",
    "print(n)"
   ]
  },
  {
   "cell_type": "markdown",
   "metadata": {},
   "source": [
    "See what's in one json file."
   ]
  },
  {
   "cell_type": "code",
   "execution_count": 11,
   "metadata": {},
   "outputs": [
    {
     "name": "stdout",
     "output_type": "stream",
     "text": [
      "{\n",
      "    \"age_limit\": 18,\n",
      "    \"categories\": [\n",
      "        \"Pornstar\",\n",
      "        \"Reality\",\n",
      "        \"Teen\",\n",
      "        \"POV\",\n",
      "        \"Small Tits\",\n",
      "        \"For Women\",\n",
      "        \"HD\"\n",
      "    ],\n",
      "    \"comment_count\": 154,\n",
      "    \"dislike_count\": 5521,\n",
      "    \"display_id\": \"ph58b4678809eed\",\n",
      "    \"downloadtime\": \"2017-09-25 05:42:22\",\n",
      "    \"duration\": 479,\n",
      "    \"ext\": \"mp4\",\n",
      "    \"extractor\": \"PornHub\",\n",
      "    \"extractor_key\": \"PornHub\",\n",
      "    \"format\": \"0 - unknown\",\n",
      "    \"format_id\": \"0\",\n",
      "    \"http_headers\": {\n",
      "        \"Accept\": \"text/html,application/xhtml+xml,application/xml;q=0.9,*/*;q=0.8\",\n",
      "        \"Accept-Charset\": \"ISO-8859-1,utf-8;q=0.7,*;q=0.7\",\n",
      "        \"Accept-Encoding\": \"gzip, deflate\",\n",
      "        \"Accept-Language\": \"en-us,en;q=0.5\",\n",
      "        \"User-Agent\": \"Mozilla/5.0 (X11; Linux x86_64; rv:10.0) Gecko/20150101 Firefox/47.0 (Chrome)\"\n",
      "    },\n",
      "    \"id\": \"ph58b4678809eed\",\n",
      "    \"like_count\": 17462,\n",
      "    \"playlist\": null,\n",
      "    \"playlist_index\": null,\n",
      "    \"pornstars\": [\n",
      "        \"/pornstar/alexa-grace\"\n",
      "    ],\n",
      "    \"production\": [\n",
      "        \"professional\"\n",
      "    ],\n",
      "    \"protocol\": \"https\",\n",
      "    \"requested_subtitles\": null,\n",
      "    \"tags\": [\n",
      "        \"sislovesme\",\n",
      "        \"alexa grace\",\n",
      "        \"young\",\n",
      "        \"petite\",\n",
      "        \"point of view\",\n",
      "        \"skinny\",\n",
      "        \"blonde\",\n",
      "        \"sister\",\n",
      "        \"step sister\",\n",
      "        \"taboo\",\n",
      "        \"brother and sister\",\n",
      "        \"hd\",\n",
      "        \"hardcore\",\n",
      "        \"amateur\",\n",
      "        \"couch\",\n",
      "        \"big cock\"\n",
      "    ],\n",
      "    \"thumbnail\": \"https://bi.phncdn.com/videos/201702/27/107844312/original/(m=eaAaGwObaaaa)(mh=l1VM0ywYHHoZeGrV)8.jpg\",\n",
      "    \"thumbnails\": [\n",
      "        {\n",
      "            \"id\": \"0\",\n",
      "            \"url\": \"https://bi.phncdn.com/videos/201702/27/107844312/original/(m=eaAaGwObaaaa)(mh=l1VM0ywYHHoZeGrV)8.jpg\"\n",
      "        }\n",
      "    ],\n",
      "    \"title\": \"Step Sister Fucked By Brother While Talking On Phone With Boyfriend\",\n",
      "    \"uploader\": \"verybarry\",\n",
      "    \"url\": \"https://dv.phncdn.com/videos/201702/27/107844312/720P_1500K_107844312.mp4?ttl=1506335796&ri=1228800&rs=2072&hash=bbfb6733e7772da0ef977790ea5d3655\",\n",
      "    \"view_count\": 6781765,\n",
      "    \"webpage_url\": \"https://www.pornhub.com/view_video.php?viewkey=ph58b4678809eed\",\n",
      "    \"webpage_url_basename\": \"view_video.php\"\n",
      "}\n"
     ]
    }
   ],
   "source": [
    "with open(this, 'r') as f:\n",
    "    data = json.load(f)\n",
    "    print(json.dumps(data, indent=4, sort_keys=True))"
   ]
  },
  {
   "cell_type": "markdown",
   "metadata": {},
   "source": [
    "Let's get all keys from all json files."
   ]
  },
  {
   "cell_type": "code",
   "execution_count": 17,
   "metadata": {},
   "outputs": [
    {
     "name": "stderr",
     "output_type": "stream",
     "text": [
      "100%|██████████| 52191/52191 [06:16<00:00, 138.66it/s] \n",
      "100%|██████████| 20064/20064 [04:45<00:00, 70.25it/s]"
     ]
    },
    {
     "name": "stdout",
     "output_type": "stream",
     "text": [
      "{'age_limit', 'comment_count', 'duration', 'extractor_key', 'http_headers', 'url', 'downloadtime', 'webpage_url', 'pornstars', 'dislike_count', 'id', 'requested_subtitles', 'playlist_index', 'display_id', 'like_count', 'thumbnails', 'protocol', 'playlist', 'categories', 'ext', 'view_count', 'thumbnail', 'title', 'uploader', 'production', 'tags', 'webpage_url_basename', 'format', 'format_id', 'extractor'}\n"
     ]
    },
    {
     "name": "stderr",
     "output_type": "stream",
     "text": [
      "\n"
     ]
    }
   ],
   "source": [
    "keys = set()\n",
    "\n",
    "for path in PATHS:\n",
    "    for file in tqdm(glob.glob(path)):\n",
    "        with open(file, 'r') as f:\n",
    "            data = json.load(f)\n",
    "            keys.update(list(data.keys()))\n",
    "print(keys)"
   ]
  },
  {
   "cell_type": "code",
   "execution_count": 18,
   "metadata": {},
   "outputs": [
    {
     "data": {
      "text/plain": [
       "{'age_limit',\n",
       " 'categories',\n",
       " 'comment_count',\n",
       " 'dislike_count',\n",
       " 'display_id',\n",
       " 'downloadtime',\n",
       " 'duration',\n",
       " 'ext',\n",
       " 'extractor',\n",
       " 'extractor_key',\n",
       " 'format',\n",
       " 'format_id',\n",
       " 'http_headers',\n",
       " 'id',\n",
       " 'like_count',\n",
       " 'playlist',\n",
       " 'playlist_index',\n",
       " 'pornstars',\n",
       " 'production',\n",
       " 'protocol',\n",
       " 'requested_subtitles',\n",
       " 'tags',\n",
       " 'thumbnail',\n",
       " 'thumbnails',\n",
       " 'title',\n",
       " 'uploader',\n",
       " 'url',\n",
       " 'view_count',\n",
       " 'webpage_url',\n",
       " 'webpage_url_basename'}"
      ]
     },
     "execution_count": 18,
     "metadata": {},
     "output_type": "execute_result"
    }
   ],
   "source": [
    "keys"
   ]
  },
  {
   "cell_type": "markdown",
   "metadata": {},
   "source": [
    "Keys of interest:\n",
    "* `categories`\n",
    "* `pornstars`\n",
    "* `production`\n",
    "* `tags`\n",
    "* `title`, `view_count`, `comment_count`, `like_count`, `dislike_count` (maybe)\n",
    "\n",
    "For `title`, we'd have to tokenize it and then clean up the results, probably with stemming or the like. For the others in the last bullet point we'd have to discretize it somehow. \n",
    "\n",
    "Now, let's count each of the features, and see how they're distributed. "
   ]
  },
  {
   "cell_type": "code",
   "execution_count": 26,
   "metadata": {},
   "outputs": [
    {
     "name": "stderr",
     "output_type": "stream",
     "text": [
      "100%|██████████| 52191/52191 [00:02<00:00, 17533.57it/s]\n",
      "100%|██████████| 20064/20064 [00:01<00:00, 17463.83it/s]\n"
     ]
    }
   ],
   "source": [
    "c = Counter()\n",
    "koi = ['categories', 'pornstars', 'production', 'tags']\n",
    "\n",
    "for path in PATHS:\n",
    "    for file in tqdm(glob.glob(path)):\n",
    "        with open(file, 'r') as f:\n",
    "            data = json.load(f)\n",
    "            for k in koi:\n",
    "                these = data[k]\n",
    "                these = [k + '__' + x for x in these]\n",
    "                c.update(these)"
   ]
  },
  {
   "cell_type": "code",
   "execution_count": 30,
   "metadata": {},
   "outputs": [],
   "source": [
    "q = list(c.items())\n",
    "q = sorted(q, key=lambda x:x[1], reverse=True)"
   ]
  },
  {
   "cell_type": "code",
   "execution_count": 33,
   "metadata": {},
   "outputs": [],
   "source": [
    "n = 0\n",
    "for tag, count in q:\n",
    "    if count >= 100:\n",
    "        n += 1"
   ]
  },
  {
   "cell_type": "code",
   "execution_count": 35,
   "metadata": {},
   "outputs": [
    {
     "name": "stdout",
     "output_type": "stream",
     "text": [
      "820 43995\n"
     ]
    }
   ],
   "source": [
    "print(n, len(q))"
   ]
  },
  {
   "cell_type": "markdown",
   "metadata": {},
   "source": [
    "There are 43,995 features, but only 820 occur in more than 100 instances.\n",
    "\n",
    "Tentatively, we will limit features of interest to only these 820 features. The problem is, given our original pool of 72,225 videos, if we eliminate many of these features, we'll probably eliminate a lot of these videos as well. How many videos will be left over?"
   ]
  },
  {
   "cell_type": "code",
   "execution_count": 44,
   "metadata": {},
   "outputs": [
    {
     "name": "stderr",
     "output_type": "stream",
     "text": [
      "100%|██████████| 52191/52191 [00:02<00:00, 21419.37it/s]\n",
      "100%|██████████| 20064/20064 [00:00<00:00, 20536.58it/s]"
     ]
    },
    {
     "name": "stdout",
     "output_type": "stream",
     "text": [
      "72255\n"
     ]
    },
    {
     "name": "stderr",
     "output_type": "stream",
     "text": [
      "\n"
     ]
    }
   ],
   "source": [
    "vocab = set([k for k, v in q if v >= 100])\n",
    "n = 0\n",
    "for path in PATHS:\n",
    "    for file in tqdm(glob.glob(path)):\n",
    "        with open(file, 'r') as f:\n",
    "            data = json.load(f)\n",
    "            this = []\n",
    "            for k in koi:\n",
    "                these = data[k]\n",
    "                these = [k + '__' + x for x in these]\n",
    "                this += these\n",
    "            this = [x for x in this if x in vocab]\n",
    "            if this:\n",
    "                n += 1\n",
    "print(n)"
   ]
  },
  {
   "cell_type": "markdown",
   "metadata": {},
   "source": [
    "Doesn't seem to be a problem."
   ]
  },
  {
   "cell_type": "code",
   "execution_count": 46,
   "metadata": {},
   "outputs": [
    {
     "name": "stderr",
     "output_type": "stream",
     "text": [
      "100%|██████████| 52191/52191 [00:02<00:00, 20006.03it/s]\n",
      "100%|██████████| 20064/20064 [00:00<00:00, 20430.80it/s]\n"
     ]
    }
   ],
   "source": [
    "features = []\n",
    "for path in PATHS:\n",
    "    for file in tqdm(glob.glob(path)):\n",
    "        with open(file, 'r') as f:\n",
    "            data = json.load(f)\n",
    "            this = []\n",
    "            for k in koi:\n",
    "                these = data[k]\n",
    "                these = [k + '__' + x for x in these]\n",
    "                this += these\n",
    "            this = [x for x in this if x in vocab]\n",
    "            features.append(this)"
   ]
  },
  {
   "cell_type": "code",
   "execution_count": 61,
   "metadata": {},
   "outputs": [],
   "source": [
    "l_c = Counter()\n",
    "for f in features:\n",
    "    l_c.update([len(f)])\n"
   ]
  },
  {
   "cell_type": "code",
   "execution_count": 63,
   "metadata": {},
   "outputs": [
    {
     "data": {
      "text/plain": [
       "[(18, 7525),\n",
       " (19, 7511),\n",
       " (20, 7108),\n",
       " (17, 7009),\n",
       " (21, 5814),\n",
       " (16, 5805),\n",
       " (15, 4777),\n",
       " (22, 4155),\n",
       " (14, 3790),\n",
       " (13, 2963),\n",
       " (23, 2777),\n",
       " (12, 2342),\n",
       " (11, 1966),\n",
       " (24, 1653),\n",
       " (10, 1617),\n",
       " (9, 1272),\n",
       " (8, 915),\n",
       " (25, 859),\n",
       " (7, 727),\n",
       " (6, 484),\n",
       " (26, 449),\n",
       " (5, 237),\n",
       " (27, 179),\n",
       " (4, 105),\n",
       " (28, 84),\n",
       " (3, 53),\n",
       " (29, 46),\n",
       " (30, 15),\n",
       " (31, 8),\n",
       " (2, 7),\n",
       " (32, 2),\n",
       " (37, 1)]"
      ]
     },
     "execution_count": 63,
     "metadata": {},
     "output_type": "execute_result"
    }
   ],
   "source": [
    "l_c.most_common()"
   ]
  },
  {
   "cell_type": "markdown",
   "metadata": {},
   "source": [
    "Use sklearn's multilabel binarizer to make features. "
   ]
  }
 ],
 "metadata": {
  "kernelspec": {
   "display_name": "Python 3",
   "language": "python",
   "name": "python3"
  },
  "language_info": {
   "codemirror_mode": {
    "name": "ipython",
    "version": 3
   },
   "file_extension": ".py",
   "mimetype": "text/x-python",
   "name": "python",
   "nbconvert_exporter": "python",
   "pygments_lexer": "ipython3",
   "version": "3.6.8"
  }
 },
 "nbformat": 4,
 "nbformat_minor": 2
}
